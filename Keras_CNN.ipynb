{
  "nbformat": 4,
  "nbformat_minor": 0,
  "metadata": {
    "colab": {
      "name": "Keras_CNN",
      "provenance": []
    },
    "kernelspec": {
      "name": "python3",
      "display_name": "Python 3"
    },
    "language_info": {
      "name": "python"
    },
    "accelerator": "TPU"
  },
  "cells": [
    {
      "cell_type": "markdown",
      "metadata": {
        "id": "eEZ6d3rMZ1Eo"
      },
      "source": [
        "# Keras 卷積神經網路(CNN) 手寫數字辨識模型"
      ]
    },
    {
      "cell_type": "markdown",
      "metadata": {
        "id": "Vlj4sfXVvWuy"
      },
      "source": [
        "匯入需要的模組"
      ]
    },
    {
      "cell_type": "code",
      "metadata": {
        "id": "f8m2p0FFEzaC"
      },
      "source": [
        "from keras.datasets import mnist # 匯入 mnist 數據集\n",
        "from keras.utils import np_utils # 可以將 label 轉換為 One-Hot encoding \n",
        "import numpy as np\n",
        "np.random.seed(10)"
      ],
      "execution_count": 7,
      "outputs": []
    },
    {
      "cell_type": "markdown",
      "metadata": {
        "id": "xb0hrb_QitNe"
      },
      "source": [
        "訓練資料 x_Train\n",
        "訓練標籤 y_Train\n",
        "\n",
        "測試資料 x_Test\n",
        "測試標籤 y_Test"
      ]
    },
    {
      "cell_type": "code",
      "metadata": {
        "id": "uqqTaTrfvU5C"
      },
      "source": [
        "(x_Train, y_Train), (x_Test, y_Test) = mnist.load_data()"
      ],
      "execution_count": 8,
      "outputs": []
    },
    {
      "cell_type": "markdown",
      "metadata": {
        "id": "pZ67Ndfjcciu"
      },
      "source": [
        "查看 mnist 資料集筆數"
      ]
    },
    {
      "cell_type": "code",
      "metadata": {
        "colab": {
          "base_uri": "https://localhost:8080/"
        },
        "id": "HJi1mCWDcUmx",
        "outputId": "4c6ce6bb-b2a6-4491-8afd-0d7d41d73707"
      },
      "source": [
        "print('Train data =', len(x_Train))\n",
        "print('Test data =', len(x_Test))"
      ],
      "execution_count": 9,
      "outputs": [
        {
          "output_type": "stream",
          "text": [
            "Train data = 60000\n",
            "Test data = 10000\n"
          ],
          "name": "stdout"
        }
      ]
    },
    {
      "cell_type": "markdown",
      "metadata": {
        "id": "RpFrCK3Ad62f"
      },
      "source": [
        "查看每一張圖片的大小\n",
        "- 60000 和 10000 分別表示 \"張數\"\n",
        "- 28, 28 表示 長寬為 28x28 的大小"
      ]
    },
    {
      "cell_type": "code",
      "metadata": {
        "colab": {
          "base_uri": "https://localhost:8080/"
        },
        "id": "L9dYq-IWd9CI",
        "outputId": "aa0c45b1-ba52-4579-86c9-dac2f212ac0d"
      },
      "source": [
        "print(x_Train.shape)\n",
        "print(x_Test.shape)"
      ],
      "execution_count": 10,
      "outputs": [
        {
          "output_type": "stream",
          "text": [
            "(60000, 28, 28)\n",
            "(10000, 28, 28)\n"
          ],
          "name": "stdout"
        }
      ]
    },
    {
      "cell_type": "markdown",
      "metadata": {
        "id": "gVo9lVWlctek"
      },
      "source": [
        "使用 matplotlib 可以輸出 images 手寫數字的影像\n",
        "\n"
      ]
    },
    {
      "cell_type": "code",
      "metadata": {
        "id": "SbbVjUUOcxe9"
      },
      "source": [
        "# 匯入模組\n",
        "import matplotlib.pyplot as plt"
      ],
      "execution_count": 11,
      "outputs": []
    },
    {
      "cell_type": "code",
      "metadata": {
        "id": "FPGPNjvBdFfH"
      },
      "source": [
        "# 定義一個函數，後續傳入圖片當作參數，就會顯示圖片\n",
        "def plot_image(image):\n",
        "  pic = plt.gcf() # 設定顯示圖片的大小\n",
        "  pic.set_size_inches(2,2)\n",
        "  plt.imshow(image, cmap='binary') # 傳入參數 'binary' 表示以黑白顯示\n",
        "  plt.show()"
      ],
      "execution_count": 12,
      "outputs": []
    },
    {
      "cell_type": "markdown",
      "metadata": {
        "id": "t2ZQVak6ejvL"
      },
      "source": [
        "顯示第一張圖片"
      ]
    },
    {
      "cell_type": "code",
      "metadata": {
        "colab": {
          "base_uri": "https://localhost:8080/",
          "height": 159
        },
        "id": "NzoFnGZ4duJA",
        "outputId": "3b32cc41-e3bd-4178-9ae6-753b7b1bf4a9"
      },
      "source": [
        "plot_image(x_Train[0])"
      ],
      "execution_count": 13,
      "outputs": [
        {
          "output_type": "display_data",
          "data": {
            "image/png": "[encoded data removed]",
            "text/plain": [
              "<Figure size 144x144 with 1 Axes>"
            ]
          },
          "metadata": {
            "needs_background": "light"
          }
        }
      ]
    },
    {
      "cell_type": "markdown",
      "metadata": {
        "id": "PtydECKCiZ3I"
      },
      "source": [
        "查看第一張圖片的 label"
      ]
    },
    {
      "cell_type": "code",
      "metadata": {
        "colab": {
          "base_uri": "https://localhost:8080/"
        },
        "id": "ZqnK5xC4idIw",
        "outputId": "220df6ae-3a3e-419e-b463-ff5601e197c7"
      },
      "source": [
        "y_Train[0]"
      ],
      "execution_count": 14,
      "outputs": [
        {
          "output_type": "execute_result",
          "data": {
            "text/plain": [
              "5"
            ]
          },
          "metadata": {},
          "execution_count": 14
        }
      ]
    },
    {
      "cell_type": "markdown",
      "metadata": {
        "id": "PtkEsy61K5UY"
      },
      "source": [
        "## Reshape 的原因\n",
        "\n",
        "- MLP(多元感知器)因為直接將資料集送入神經元，所以 reshape 轉換為 60000 筆，每一筆有 784 個數字，因此第一層會需要有 784 個神經元。\n",
        "\n",
        "- CNN(卷積神經網路)因為必須先進行卷積和池化運算，所以必須保持影像的維度，所以 reshape 轉換為 60000 筆，每一筆有 28x28x1 的影像，分別為 28（寬）x 28（高）x 1（單色）。"
      ]
    },
    {
      "cell_type": "code",
      "metadata": {
        "id": "mnngrB3mwl0Z"
      },
      "source": [
        "x_Train4D = x_Train.reshape(x_Train.shape[0], 28, 28, 1).astype('float32')\n",
        "x_Test4D = x_Test.reshape(x_Test.shape[0], 28, 28, 1).astype('float32')"
      ],
      "execution_count": 15,
      "outputs": []
    },
    {
      "cell_type": "markdown",
      "metadata": {
        "id": "E4MOVvZbLqrB"
      },
      "source": [
        "將 features（數字的真實值）以 One-Hot encoding 轉換。\n",
        "黑白圖片屬於灰階，是 2^8，除上 255 可以提高模型預測的轉卻度。"
      ]
    },
    {
      "cell_type": "code",
      "metadata": {
        "id": "HpbYX2NnxALp"
      },
      "source": [
        "x_Train4D_normalize = x_Train4D / 255\n",
        "x_Test4D_normalize = x_Test4D / 255"
      ],
      "execution_count": 16,
      "outputs": []
    },
    {
      "cell_type": "code",
      "metadata": {
        "id": "I6hOX2qWxNAh"
      },
      "source": [
        "y_TrainOneHot = np_utils.to_categorical(y_Train)\n",
        "y_TestOneHot = np_utils.to_categorical(y_Test)"
      ],
      "execution_count": 17,
      "outputs": []
    },
    {
      "cell_type": "markdown",
      "metadata": {
        "id": "GXybWkwbxZ-V"
      },
      "source": [
        "建立模型"
      ]
    },
    {
      "cell_type": "code",
      "metadata": {
        "id": "a96mVhM1xYQy"
      },
      "source": [
        "from keras.models import Sequential\n",
        "from keras.layers import Dense, Dropout, Flatten, Conv2D, MaxPooling2D"
      ],
      "execution_count": 18,
      "outputs": []
    },
    {
      "cell_type": "code",
      "metadata": {
        "id": "C_hCfo38xqBj"
      },
      "source": [
        "model = Sequential()"
      ],
      "execution_count": 19,
      "outputs": []
    },
    {
      "cell_type": "markdown",
      "metadata": {
        "id": "Zaube7qjMsTE"
      },
      "source": [
        "## 卷積層 1 \n",
        "- filters：需要設定一個整數，表示卷積濾波器的輸出數量。\n",
        "- kernel_size：卷積核的大小，一般為正方形，邊長為奇數，便於尋找中心點，作用為掃描圖片。\n",
        "- padding：補零方式，卷積層取週邊kernel_size的滑動視窗時，若超越邊界時，是否要放棄這個output點(valid)、一律補零(same)、還是不計算超越邊界的Input值(causal)。"
      ]
    },
    {
      "cell_type": "code",
      "metadata": {
        "id": "nd1Y5hqWxtlI"
      },
      "source": [
        "model.add(Conv2D(filters=16,\n",
        "                 kernel_size=(5,5),\n",
        "                 padding='same',\n",
        "                 input_shape=(28, 28, 1),\n",
        "                 activation='relu'))"
      ],
      "execution_count": 20,
      "outputs": []
    },
    {
      "cell_type": "code",
      "metadata": {
        "id": "AxKdF5qVyE3_"
      },
      "source": [
        "model.add(MaxPooling2D(pool_size=(2, 2)))"
      ],
      "execution_count": 21,
      "outputs": []
    },
    {
      "cell_type": "code",
      "metadata": {
        "id": "ea5Ffh6fyPBM"
      },
      "source": [
        "model.add(Conv2D(filters=36,\n",
        "                 kernel_size=(5,5),\n",
        "                 padding='same',\n",
        "                 activation='relu'))"
      ],
      "execution_count": 22,
      "outputs": []
    },
    {
      "cell_type": "code",
      "metadata": {
        "id": "GLYjK_lGybhV"
      },
      "source": [
        "model.add(MaxPooling2D(pool_size=(2, 2)))"
      ],
      "execution_count": 23,
      "outputs": []
    },
    {
      "cell_type": "code",
      "metadata": {
        "id": "PcPmGuEyyg56"
      },
      "source": [
        "model.add(Dropout(0.25))"
      ],
      "execution_count": 24,
      "outputs": []
    },
    {
      "cell_type": "code",
      "metadata": {
        "id": "mlzzwtnoykWP"
      },
      "source": [
        "model.add(Flatten())"
      ],
      "execution_count": 25,
      "outputs": []
    },
    {
      "cell_type": "code",
      "metadata": {
        "id": "LlxW1vKMymYq"
      },
      "source": [
        "model.add(Dense(128, activation='relu'))"
      ],
      "execution_count": 26,
      "outputs": []
    },
    {
      "cell_type": "code",
      "metadata": {
        "id": "fA-Jh5tHyqeZ"
      },
      "source": [
        "model.add(Dropout(0.5))"
      ],
      "execution_count": 27,
      "outputs": []
    },
    {
      "cell_type": "code",
      "metadata": {
        "id": "jjnli28IyuFk"
      },
      "source": [
        "model.add(Dense(10, activation='softmax'))"
      ],
      "execution_count": 28,
      "outputs": []
    },
    {
      "cell_type": "code",
      "metadata": {
        "colab": {
          "base_uri": "https://localhost:8080/"
        },
        "id": "qrQO521_y0Xk",
        "outputId": "27b8f4e4-077c-4375-bda2-66d806c7d83a"
      },
      "source": [
        "print(model.summary())"
      ],
      "execution_count": 29,
      "outputs": [
        {
          "output_type": "stream",
          "text": [
            "Model: \"sequential\"\n",
            "_________________________________________________________________\n",
            "Layer (type)                 Output Shape              Param #   \n",
            "=================================================================\n",
            "conv2d (Conv2D)              (None, 28, 28, 16)        416       \n",
            "_________________________________________________________________\n",
            "max_pooling2d (MaxPooling2D) (None, 14, 14, 16)        0         \n",
            "_________________________________________________________________\n",
            "conv2d_1 (Conv2D)            (None, 14, 14, 36)        14436     \n",
            "_________________________________________________________________\n",
            "max_pooling2d_1 (MaxPooling2 (None, 7, 7, 36)          0         \n",
            "_________________________________________________________________\n",
            "dropout (Dropout)            (None, 7, 7, 36)          0         \n",
            "_________________________________________________________________\n",
            "flatten (Flatten)            (None, 1764)              0         \n",
            "_________________________________________________________________\n",
            "dense (Dense)                (None, 128)               225920    \n",
            "_________________________________________________________________\n",
            "dropout_1 (Dropout)          (None, 128)               0         \n",
            "_________________________________________________________________\n",
            "dense_1 (Dense)              (None, 10)                1290      \n",
            "=================================================================\n",
            "Total params: 242,062\n",
            "Trainable params: 242,062\n",
            "Non-trainable params: 0\n",
            "_________________________________________________________________\n",
            "None\n"
          ],
          "name": "stdout"
        }
      ]
    },
    {
      "cell_type": "markdown",
      "metadata": {
        "id": "Vtl9ZT7Cy5js"
      },
      "source": [
        "進行訓練"
      ]
    },
    {
      "cell_type": "code",
      "metadata": {
        "id": "vgZSsy16y7CQ"
      },
      "source": [
        "model.compile(loss='categorical_crossentropy',\n",
        "              optimizer='adam',\n",
        "              metrics=['accuracy'])"
      ],
      "execution_count": 30,
      "outputs": []
    },
    {
      "cell_type": "code",
      "metadata": {
        "colab": {
          "base_uri": "https://localhost:8080/"
        },
        "id": "NsXotOBazJP6",
        "outputId": "bce1c10b-3f4b-4f86-d113-49d05f743ac5"
      },
      "source": [
        "train_history = model.fit(x=x_Train4D_normalize,\n",
        "                          y=y_TrainOneHot,\n",
        "                          validation_split=0.2,\n",
        "                          epochs=10,\n",
        "                          batch_size=300,\n",
        "                          verbose=2)"
      ],
      "execution_count": 31,
      "outputs": [
        {
          "output_type": "stream",
          "text": [
            "Epoch 1/10\n",
            "160/160 - 54s - loss: 0.5148 - accuracy: 0.8390 - val_loss: 0.1084 - val_accuracy: 0.9681\n",
            "Epoch 2/10\n",
            "160/160 - 52s - loss: 0.1425 - accuracy: 0.9572 - val_loss: 0.0711 - val_accuracy: 0.9787\n",
            "Epoch 3/10\n",
            "160/160 - 52s - loss: 0.1044 - accuracy: 0.9686 - val_loss: 0.0586 - val_accuracy: 0.9824\n",
            "Epoch 4/10\n",
            "160/160 - 52s - loss: 0.0828 - accuracy: 0.9753 - val_loss: 0.0526 - val_accuracy: 0.9836\n",
            "Epoch 5/10\n",
            "160/160 - 52s - loss: 0.0714 - accuracy: 0.9781 - val_loss: 0.0440 - val_accuracy: 0.9871\n",
            "Epoch 6/10\n",
            "160/160 - 52s - loss: 0.0628 - accuracy: 0.9813 - val_loss: 0.0411 - val_accuracy: 0.9877\n",
            "Epoch 7/10\n",
            "160/160 - 52s - loss: 0.0584 - accuracy: 0.9813 - val_loss: 0.0391 - val_accuracy: 0.9887\n",
            "Epoch 8/10\n",
            "160/160 - 52s - loss: 0.0525 - accuracy: 0.9842 - val_loss: 0.0374 - val_accuracy: 0.9890\n",
            "Epoch 9/10\n",
            "160/160 - 54s - loss: 0.0463 - accuracy: 0.9855 - val_loss: 0.0358 - val_accuracy: 0.9903\n",
            "Epoch 10/10\n",
            "160/160 - 53s - loss: 0.0427 - accuracy: 0.9873 - val_loss: 0.0344 - val_accuracy: 0.9895\n"
          ],
          "name": "stdout"
        }
      ]
    },
    {
      "cell_type": "code",
      "metadata": {
        "id": "02DsqM6U2fc8"
      },
      "source": [
        "def show_train_history(train_history, train, validation):\n",
        "  plt.plot(train_history.history[train])\n",
        "  plt.plot(train_history.history[validation])\n",
        "  plt.title('Train History')\n",
        "  plt.ylabel(train)\n",
        "  plt.xlabel('Epoch')\n",
        "  plt.legend(['train', 'validation'], loc='upper left')\n",
        "  plt.show()"
      ],
      "execution_count": 32,
      "outputs": []
    },
    {
      "cell_type": "code",
      "metadata": {
        "colab": {
          "base_uri": "https://localhost:8080/",
          "height": 295
        },
        "id": "kpQgTZzK3JUZ",
        "outputId": "61e89b5c-663e-412c-b1c8-02b3af44d134"
      },
      "source": [
        "show_train_history(train_history, 'accuracy', 'val_accuracy')"
      ],
      "execution_count": 33,
      "outputs": [
        {
          "output_type": "display_data",
          "data": {
            "image/png": "[encoded data removed]",
            "text/plain": [
              "<Figure size 432x288 with 1 Axes>"
            ]
          },
          "metadata": {
            "needs_background": "light"
          }
        }
      ]
    },
    {
      "cell_type": "code",
      "metadata": {
        "colab": {
          "base_uri": "https://localhost:8080/",
          "height": 295
        },
        "id": "iPkV1pnM8eIu",
        "outputId": "a1cb16eb-c0e9-4122-b7cd-a37e7d93ce40"
      },
      "source": [
        "show_train_history(train_history, 'loss', 'val_loss')"
      ],
      "execution_count": 34,
      "outputs": [
        {
          "output_type": "display_data",
          "data": {
            "image/png": "[encoded data removed]",
            "text/plain": [
              "<Figure size 432x288 with 1 Axes>"
            ]
          },
          "metadata": {
            "needs_background": "light"
          }
        }
      ]
    },
    {
      "cell_type": "markdown",
      "metadata": {
        "id": "cf776Jbw8lHc"
      },
      "source": [
        "評估模型準確率"
      ]
    },
    {
      "cell_type": "code",
      "metadata": {
        "colab": {
          "base_uri": "https://localhost:8080/"
        },
        "id": "zhNbgUSP8nEd",
        "outputId": "2b1934e1-63b0-47ad-d019-0ef16fccabf2"
      },
      "source": [
        "scores = model.evaluate(x_Test4D_normalize, y_TestOneHot)\n",
        "scores[1]"
      ],
      "execution_count": 35,
      "outputs": [
        {
          "output_type": "stream",
          "text": [
            "313/313 [==============================] - 5s 14ms/step - loss: 0.0258 - accuracy: 0.9916\n"
          ],
          "name": "stdout"
        },
        {
          "output_type": "execute_result",
          "data": {
            "text/plain": [
              "0.991599977016449"
            ]
          },
          "metadata": {},
          "execution_count": 35
        }
      ]
    },
    {
      "cell_type": "markdown",
      "metadata": {
        "id": "t46VHoiA84S7"
      },
      "source": [
        "進行預測"
      ]
    },
    {
      "cell_type": "code",
      "metadata": {
        "colab": {
          "base_uri": "https://localhost:8080/"
        },
        "id": "nZMCQ62r85W4",
        "outputId": "c600bbdd-f4ee-4c40-a682-7cd3b96eebbe"
      },
      "source": [
        "predict_x=model.predict(x_Test4D_normalize) \n",
        "classes_x=np.argmax(predict_x,axis=1)\n",
        "classes_x[:10]"
      ],
      "execution_count": 36,
      "outputs": [
        {
          "output_type": "execute_result",
          "data": {
            "text/plain": [
              "array([7, 2, 1, 0, 4, 1, 4, 9, 5, 9])"
            ]
          },
          "metadata": {},
          "execution_count": 36
        }
      ]
    },
    {
      "cell_type": "markdown",
      "metadata": {
        "id": "fo_QpVMqO33F"
      },
      "source": [
        "查看多筆訓練資料 images 和 label"
      ]
    },
    {
      "cell_type": "code",
      "metadata": {
        "id": "hbNEr2_6O6mL"
      },
      "source": [
        "def plot_images_labels_prediction(images, labels, prediction, idx, num=10):\n",
        "  pic = plt.gcf()\n",
        "  pic.set_size_inches(12, 14)\n",
        "  if num > 25: num=25\n",
        "  for i in range(0, num):\n",
        "    ax = plt.subplot(5, 5, 1+i)\n",
        "    ax.imshow(images[idx], cmap='binary')\n",
        "    title = \"label=\" + str(labels[idx])\n",
        "    if len(prediction)>0:\n",
        "      title += \", predict=\"+str(prediction[idx])\n",
        "\n",
        "    ax.set_title(title, fontsize=10)\n",
        "    ax.set_xticks([]);ax.set_yticks([])\n",
        "    idx+=1\n",
        "  plt.show()"
      ],
      "execution_count": 39,
      "outputs": []
    },
    {
      "cell_type": "code",
      "metadata": {
        "colab": {
          "base_uri": "https://localhost:8080/",
          "height": 321
        },
        "id": "nf23c5C1QBly",
        "outputId": "23144c02-4a0b-484d-b268-a54c8189aaba"
      },
      "source": [
        "plot_images_labels_prediction(x_Test, y_Test, classes_x, idx=0)"
      ],
      "execution_count": 41,
      "outputs": [
        {
          "output_type": "display_data",
          "data": {
            "image/png": "[encoded data removed]",
            "text/plain": [
              "<Figure size 864x1008 with 10 Axes>"
            ]
          },
          "metadata": {}
        }
      ]
    },
    {
      "cell_type": "markdown",
      "metadata": {
        "id": "vTG08fCYOAPv"
      },
      "source": [
        "# 參考資料：\n",
        "1. [Day 08：CNN 模型設計](https://ithelp.ithome.com.tw/articles/10192028)\n",
        "2. [Keras AttributeError: 'Sequential' object has no attribute 'predict_classes'](https://stackoverflow.com/questions/68836551/keras-attributeerror-sequential-object-has-no-attribute-predict-classes)"
      ]
    }
  ]
}